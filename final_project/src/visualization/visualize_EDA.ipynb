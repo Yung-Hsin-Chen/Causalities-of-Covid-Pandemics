{
 "cells": [
  {
   "cell_type": "code",
   "execution_count": 2,
   "metadata": {},
   "outputs": [],
   "source": [
    "import pandas as pd\n",
    "import matplotlib.pyplot as plt\n",
    "import os"
   ]
  },
  {
   "cell_type": "code",
   "execution_count": 34,
   "metadata": {},
   "outputs": [
    {
     "data": {
      "text/html": [
       "<div>\n",
       "<style scoped>\n",
       "    .dataframe tbody tr th:only-of-type {\n",
       "        vertical-align: middle;\n",
       "    }\n",
       "\n",
       "    .dataframe tbody tr th {\n",
       "        vertical-align: top;\n",
       "    }\n",
       "\n",
       "    .dataframe thead th {\n",
       "        text-align: right;\n",
       "    }\n",
       "</style>\n",
       "<table border=\"1\" class=\"dataframe\">\n",
       "  <thead>\n",
       "    <tr style=\"text-align: right;\">\n",
       "      <th></th>\n",
       "      <th>cardiovasc_death_rate</th>\n",
       "      <th>diabetes_prevalence</th>\n",
       "      <th>gdp_per_capita</th>\n",
       "      <th>hospital_beds_per_thousand</th>\n",
       "      <th>people_fully_vaccinated_per_hundred</th>\n",
       "      <th>human_development_index</th>\n",
       "      <th>life_expectancy</th>\n",
       "      <th>median_age</th>\n",
       "      <th>population_density</th>\n",
       "      <th>aged_65_older_percentage</th>\n",
       "      <th>aged_70_older_percentage</th>\n",
       "      <th>total_cases_per_million_level</th>\n",
       "    </tr>\n",
       "  </thead>\n",
       "  <tbody>\n",
       "    <tr>\n",
       "      <th>0</th>\n",
       "      <td>597.029</td>\n",
       "      <td>9.59</td>\n",
       "      <td>1803.987</td>\n",
       "      <td>0.50</td>\n",
       "      <td>25.61</td>\n",
       "      <td>0.511</td>\n",
       "      <td>64.83</td>\n",
       "      <td>18.6</td>\n",
       "      <td>54.422</td>\n",
       "      <td>6.275412e-08</td>\n",
       "      <td>3.250766e-08</td>\n",
       "      <td>0</td>\n",
       "    </tr>\n",
       "    <tr>\n",
       "      <th>1</th>\n",
       "      <td>304.195</td>\n",
       "      <td>10.08</td>\n",
       "      <td>11803.431</td>\n",
       "      <td>2.89</td>\n",
       "      <td>44.62</td>\n",
       "      <td>0.795</td>\n",
       "      <td>78.57</td>\n",
       "      <td>38.0</td>\n",
       "      <td>104.871</td>\n",
       "      <td>4.639875e-06</td>\n",
       "      <td>3.040828e-06</td>\n",
       "      <td>1</td>\n",
       "    </tr>\n",
       "    <tr>\n",
       "      <th>2</th>\n",
       "      <td>278.364</td>\n",
       "      <td>6.73</td>\n",
       "      <td>13913.839</td>\n",
       "      <td>1.90</td>\n",
       "      <td>14.43</td>\n",
       "      <td>0.748</td>\n",
       "      <td>76.88</td>\n",
       "      <td>29.1</td>\n",
       "      <td>17.348</td>\n",
       "      <td>1.383197e-07</td>\n",
       "      <td>8.589583e-08</td>\n",
       "      <td>0</td>\n",
       "    </tr>\n",
       "    <tr>\n",
       "      <th>3</th>\n",
       "      <td>276.045</td>\n",
       "      <td>3.94</td>\n",
       "      <td>5819.495</td>\n",
       "      <td>0.00</td>\n",
       "      <td>21.96</td>\n",
       "      <td>0.581</td>\n",
       "      <td>61.15</td>\n",
       "      <td>16.8</td>\n",
       "      <td>23.890</td>\n",
       "      <td>6.757707e-08</td>\n",
       "      <td>3.827026e-08</td>\n",
       "      <td>0</td>\n",
       "    </tr>\n",
       "    <tr>\n",
       "      <th>4</th>\n",
       "      <td>191.511</td>\n",
       "      <td>13.17</td>\n",
       "      <td>21490.943</td>\n",
       "      <td>3.80</td>\n",
       "      <td>66.53</td>\n",
       "      <td>0.778</td>\n",
       "      <td>77.02</td>\n",
       "      <td>32.1</td>\n",
       "      <td>231.845</td>\n",
       "      <td>7.393465e-05</td>\n",
       "      <td>4.938574e-05</td>\n",
       "      <td>1</td>\n",
       "    </tr>\n",
       "  </tbody>\n",
       "</table>\n",
       "</div>"
      ],
      "text/plain": [
       "   cardiovasc_death_rate  diabetes_prevalence  gdp_per_capita  \\\n",
       "0                597.029                 9.59        1803.987   \n",
       "1                304.195                10.08       11803.431   \n",
       "2                278.364                 6.73       13913.839   \n",
       "3                276.045                 3.94        5819.495   \n",
       "4                191.511                13.17       21490.943   \n",
       "\n",
       "   hospital_beds_per_thousand  people_fully_vaccinated_per_hundred  \\\n",
       "0                        0.50                                25.61   \n",
       "1                        2.89                                44.62   \n",
       "2                        1.90                                14.43   \n",
       "3                        0.00                                21.96   \n",
       "4                        3.80                                66.53   \n",
       "\n",
       "   human_development_index  life_expectancy  median_age  population_density  \\\n",
       "0                    0.511            64.83        18.6              54.422   \n",
       "1                    0.795            78.57        38.0             104.871   \n",
       "2                    0.748            76.88        29.1              17.348   \n",
       "3                    0.581            61.15        16.8              23.890   \n",
       "4                    0.778            77.02        32.1             231.845   \n",
       "\n",
       "   aged_65_older_percentage  aged_70_older_percentage  \\\n",
       "0              6.275412e-08              3.250766e-08   \n",
       "1              4.639875e-06              3.040828e-06   \n",
       "2              1.383197e-07              8.589583e-08   \n",
       "3              6.757707e-08              3.827026e-08   \n",
       "4              7.393465e-05              4.938574e-05   \n",
       "\n",
       "  total_cases_per_million_level  \n",
       "0                             0  \n",
       "1                             1  \n",
       "2                             0  \n",
       "3                             0  \n",
       "4                             1  "
      ]
     },
     "execution_count": 34,
     "metadata": {},
     "output_type": "execute_result"
    }
   ],
   "source": [
    "#vacc_age_df = pd.read_hdf(\"../../data/external/vaccinations-by-age-group.h5\")\n",
    "#vacc_manu_df = pd.read_hdf(\"../../data/external/vaccinations-by-manufacturer.h5\")\n",
    "df = pd.read_hdf(\"../../data/processed/covid_data.h5\")\n",
    "df.head()"
   ]
  },
  {
   "cell_type": "code",
   "execution_count": 35,
   "metadata": {},
   "outputs": [
    {
     "data": {
      "text/plain": [
       "Text(0.5, 1.0, 'total cases per million level')"
      ]
     },
     "execution_count": 35,
     "metadata": {},
     "output_type": "execute_result"
    },
    {
     "data": {
      "image/png": "[encoded data removed]",
      "text/plain": [
       "<Figure size 432x288 with 1 Axes>"
      ]
     },
     "metadata": {
      "needs_background": "light"
     },
     "output_type": "display_data"
    }
   ],
   "source": [
    "## Now we do an EDA to see some key characteristics of the dataset\n",
    "# 1. Total cases per million histogram by level (0-3)\n",
    "plt1 = df['total_cases_per_million_level'].value_counts().plot(kind='bar')\n",
    "plt1.set_title(\"total cases per million level\")"
   ]
  },
  {
   "cell_type": "code",
   "execution_count": 42,
   "metadata": {},
   "outputs": [
    {
     "data": {
      "image/png": "[encoded data removed]",
      "text/plain": [
       "<Figure size 432x288 with 1 Axes>"
      ]
     },
     "metadata": {
      "needs_background": "light"
     },
     "output_type": "display_data"
    },
    {
     "name": "stdout",
     "output_type": "stream",
     "text": [
      "0.25    176.1925\n",
      "0.50    252.6750\n",
      "0.75    332.4330\n",
      "Name: cardiovasc_death_rate, dtype: float64\n"
     ]
    }
   ],
   "source": [
    "# 2. Cardiovascular death rate related. \n",
    "# We use a box plot and print its quartile values (after dropping zero values)\n",
    "df1 = df.loc[df[\"cardiovasc_death_rate\"] > 0]\n",
    "df1.boxplot('cardiovasc_death_rate', vert=False)\n",
    "plt.show()\n",
    "\n",
    "print(df1['cardiovasc_death_rate'].quantile([0.25, 0.5, 0.75]))"
   ]
  },
  {
   "cell_type": "code",
   "execution_count": 43,
   "metadata": {},
   "outputs": [
    {
     "data": {
      "image/png": "[encoded data removed]",
      "text/plain": [
       "<Figure size 432x288 with 1 Axes>"
      ]
     },
     "metadata": {
      "needs_background": "light"
     },
     "output_type": "display_data"
    },
    {
     "name": "stdout",
     "output_type": "stream",
     "text": [
      "0.25     5.305\n",
      "0.50     7.155\n",
      "0.75    10.430\n",
      "Name: diabetes_prevalence, dtype: float64\n"
     ]
    }
   ],
   "source": [
    "# 3. Diabetes prevalence related. \n",
    "# We use the same methods as in 2.\n",
    "df1 = df.loc[df[\"diabetes_prevalence\"] > 0]\n",
    "df1.boxplot('diabetes_prevalence', vert=False)\n",
    "plt.show()\n",
    "\n",
    "print(df1['diabetes_prevalence'].quantile([0.25, 0.5, 0.75]))"
   ]
  },
  {
   "cell_type": "code",
   "execution_count": 57,
   "metadata": {},
   "outputs": [
    {
     "data": {
      "image/png": "[encoded data removed]",
      "text/plain": [
       "<Figure size 432x288 with 1 Axes>"
      ]
     },
     "metadata": {
      "needs_background": "light"
     },
     "output_type": "display_data"
    },
    {
     "name": "stdout",
     "output_type": "stream",
     "text": [
      "0.1      1713.8320\n",
      "0.2      3040.7768\n",
      "0.3      5355.8874\n",
      "0.4      7866.3806\n",
      "0.5     12236.7060\n",
      "0.6     16019.5198\n",
      "0.7     22747.5890\n",
      "0.8     32453.2868\n",
      "0.9     44997.0310\n",
      "1.0    116935.6000\n",
      "Name: gdp_per_capita, dtype: float64\n"
     ]
    }
   ],
   "source": [
    "# 4. GDP per capita. \n",
    "# We use the same methods as in 2.\n",
    "df1 = df.loc[df[\"gdp_per_capita\"] > 0]\n",
    "df1.boxplot('gdp_per_capita', vert=False)\n",
    "plt.show()\n",
    "\n",
    "print(df1['gdp_per_capita'].quantile([0.1,0.2,0.3,0.4,0.5,0.6,0.7,0.8,0.9,1]))"
   ]
  },
  {
   "cell_type": "code",
   "execution_count": 45,
   "metadata": {},
   "outputs": [
    {
     "data": {
      "image/png": "[encoded data removed]",
      "text/plain": [
       "<Figure size 432x288 with 1 Axes>"
      ]
     },
     "metadata": {
      "needs_background": "light"
     },
     "output_type": "display_data"
    },
    {
     "name": "stdout",
     "output_type": "stream",
     "text": [
      "0.1    0.700\n",
      "0.2    1.076\n",
      "0.3    1.400\n",
      "0.4    1.900\n",
      "0.5    2.360\n",
      "0.6    2.898\n",
      "0.7    3.600\n",
      "0.8    4.518\n",
      "0.9    6.482\n",
      "Name: hospital_beds_per_thousand, dtype: float64\n"
     ]
    }
   ],
   "source": [
    "# 5. hospital beds per thousand inhabitants. \n",
    "# We use the same methods as in 2.\n",
    "df1 = df.loc[df[\"hospital_beds_per_thousand\"] > 0]\n",
    "df1.boxplot('hospital_beds_per_thousand', vert=False)\n",
    "plt.show()\n",
    "\n",
    "print(df1['hospital_beds_per_thousand'].quantile([0.1,0.2,0.3,0.4,0.5,0.6,0.7,0.8,0.9]))"
   ]
  },
  {
   "cell_type": "code",
   "execution_count": 60,
   "metadata": {},
   "outputs": [
    {
     "data": {
      "image/png": "[encoded data removed]",
      "text/plain": [
       "<Figure size 432x288 with 1 Axes>"
      ]
     },
     "metadata": {
      "needs_background": "light"
     },
     "output_type": "display_data"
    }
   ],
   "source": [
    "# 6. Relationship between gdp per capita and hospital beds per tsd.\n",
    "# We draw a scatter plot between these two. \n",
    "ax =df.plot.scatter(x=\"gdp_per_capita\", y=\"hospital_beds_per_thousand\")\n",
    "ax.set_xlim(0, 60000)\n",
    "ax.set_ylim(0, 8)\n",
    "\n",
    "plt.show()\n"
   ]
  },
  {
   "cell_type": "code",
   "execution_count": 117,
   "metadata": {},
   "outputs": [],
   "source": [
    "def get_count(df):\n",
    "    try:\n",
    "        df = df.groupby([\"location\"])[[\"date\"]].count().rename(columns={\"date\": \"count\"}).reset_index()\n",
    "    except:\n",
    "        df = df.groupby([\"entity\"])[[\"date\"]].count().rename(columns={\"date\": \"count\"}).reset_index().rename(columns={\"entity\":\"location\"})\n",
    "    df_count = df.sort_values(\"count\")\n",
    "    return df_count\n",
    "\n",
    "def get_boundary_count(boundary_count=200):\n",
    "    below_boundary = []\n",
    "    above_boundary = []\n",
    "    below_boundary_country = []\n",
    "    for df in [hospital_df, vacc_age_df, vacc_manu_df, covid_df]:\n",
    "        below_boundary.append(len([i for i in get_count(df)[\"count\"] if i < boundary_count]))\n",
    "        above_boundary.append(len([i for i in get_count(df)[\"count\"] if i > boundary_count]))\n",
    "        below_boundary_country.append(get_count(df)[get_count(df)[\"count\"] < boundary_count][\"location\"].tolist())\n",
    "    return below_boundary, above_boundary, below_boundary_country"
   ]
  },
  {
   "cell_type": "code",
   "execution_count": null,
   "metadata": {},
   "outputs": [],
   "source": [
    "# hospital_df = pd.read_hdf(\"../../data/external/owid-covid-data.h5\")\n",
    "# # df_count = hospital_df.groupby([\"location\"])[[\"iso_code\"]].count().rename(columns={\"iso_code\": \"count\"}).reset_index()\n",
    "# # df_count = df_count.sort_values(\"count\")\n",
    "# get_count(hospital_df )\n",
    "\n",
    "# plt.figure(figsize=(4,45))\n",
    "# plt.style.use('ggplot')\n",
    "\n",
    "# plt.barh(df_count[\"location\"].tolist(), df_count[\"count\"].tolist())\n",
    "# plt.title(\"Data Counts for Each Country\")\n",
    "# plt.ylabel(\"country\")\n",
    "# plt.xlabel(\"count\")\n",
    "# plt.show()"
   ]
  },
  {
   "cell_type": "code",
   "execution_count": 118,
   "metadata": {},
   "outputs": [
    {
     "name": "stdout",
     "output_type": "stream",
     "text": [
      "Countries with less than 300 data entries will not be used:  {'Western Sahara', 'Singapore', 'Canada', 'Liechtenstein', 'Finland', 'Iceland', 'Russia', 'Sweden'} \n",
      "\n",
      "Data Counts of Countries:\n"
     ]
    },
    {
     "data": {
      "text/html": [
       "<div>\n",
       "<style scoped>\n",
       "    .dataframe tbody tr th:only-of-type {\n",
       "        vertical-align: middle;\n",
       "    }\n",
       "\n",
       "    .dataframe tbody tr th {\n",
       "        vertical-align: top;\n",
       "    }\n",
       "\n",
       "    .dataframe thead th {\n",
       "        text-align: right;\n",
       "    }\n",
       "</style>\n",
       "<table border=\"1\" class=\"dataframe\">\n",
       "  <thead>\n",
       "    <tr style=\"text-align: right;\">\n",
       "      <th></th>\n",
       "      <th>less than 300 data</th>\n",
       "      <th>more than 300 data</th>\n",
       "      <th>country name with data &lt; 300</th>\n",
       "    </tr>\n",
       "  </thead>\n",
       "  <tbody>\n",
       "    <tr>\n",
       "      <th>covid-hospitalizations</th>\n",
       "      <td>3</td>\n",
       "      <td>48</td>\n",
       "      <td>[Russia, Liechtenstein, Singapore]</td>\n",
       "    </tr>\n",
       "    <tr>\n",
       "      <th>vaccinations-by-age-group</th>\n",
       "      <td>0</td>\n",
       "      <td>38</td>\n",
       "      <td>[]</td>\n",
       "    </tr>\n",
       "    <tr>\n",
       "      <th>vaccinations-by-manufacturer</th>\n",
       "      <td>5</td>\n",
       "      <td>39</td>\n",
       "      <td>[Iceland, Liechtenstein, Sweden, Finland, Canada]</td>\n",
       "    </tr>\n",
       "    <tr>\n",
       "      <th>owid-covid-data</th>\n",
       "      <td>1</td>\n",
       "      <td>247</td>\n",
       "      <td>[Western Sahara]</td>\n",
       "    </tr>\n",
       "  </tbody>\n",
       "</table>\n",
       "</div>"
      ],
      "text/plain": [
       "                              less than 300 data  more than 300 data  \\\n",
       "covid-hospitalizations                         3                  48   \n",
       "vaccinations-by-age-group                      0                  38   \n",
       "vaccinations-by-manufacturer                   5                  39   \n",
       "owid-covid-data                                1                 247   \n",
       "\n",
       "                                                   country name with data < 300  \n",
       "covid-hospitalizations                       [Russia, Liechtenstein, Singapore]  \n",
       "vaccinations-by-age-group                                                    []  \n",
       "vaccinations-by-manufacturer  [Iceland, Liechtenstein, Sweden, Finland, Canada]  \n",
       "owid-covid-data                                                [Western Sahara]  "
      ]
     },
     "execution_count": 118,
     "metadata": {},
     "output_type": "execute_result"
    }
   ],
   "source": [
    "boundary = 300\n",
    "df = pd.DataFrame.from_dict({\"less than \"+str(boundry)+\" data\": get_boundary_count(boundary)[0],\n",
    "                             \"more than \"+str(boundry)+\" data\": get_boundary_count(boundary)[1],\n",
    "                             \"country name with data < \"+str(boundry): get_boundary_count(boundary)[2]})\n",
    "df.index = [\"covid-hospitalizations\", \"vaccinations-by-age-group\",\n",
    "            \"vaccinations-by-manufacturer\", \"owid-covid-data\"]\n",
    "print(\"Countries with less than \"+str(boundary)+\" data entries will not be used: \", \n",
    "      set(sum(get_boundary_count(boundary)[2], [])), \"\\n\")\n",
    "print(\"Data Counts of Countries:\")\n",
    "df"
   ]
  },
  {
   "cell_type": "code",
   "execution_count": null,
   "metadata": {},
   "outputs": [],
   "source": []
  }
 ],
 "metadata": {
  "kernelspec": {
   "display_name": "Python 3.8.3 ('base')",
   "language": "python",
   "name": "python3"
  },
  "language_info": {
   "codemirror_mode": {
    "name": "ipython",
    "version": 3
   },
   "file_extension": ".py",
   "mimetype": "text/x-python",
   "name": "python",
   "nbconvert_exporter": "python",
   "pygments_lexer": "ipython3",
   "version": "3.8.3"
  },
  "orig_nbformat": 4,
  "vscode": {
   "interpreter": {
    "hash": "3067ead486e059ec00ffe7555bdb889e6e264a24dc711bf108106cc7baee8d5d"
   }
  }
 },
 "nbformat": 4,
 "nbformat_minor": 2
}
