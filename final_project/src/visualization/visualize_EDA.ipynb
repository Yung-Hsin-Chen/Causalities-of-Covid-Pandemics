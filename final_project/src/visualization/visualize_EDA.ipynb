{
 "cells": [
  {
   "cell_type": "code",
   "execution_count": 1,
   "metadata": {},
   "outputs": [],
   "source": [
    "import pandas as pd\n",
    "import matplotlib.pyplot as plt\n",
    "import os"
   ]
  },
  {
   "cell_type": "code",
   "execution_count": 82,
   "metadata": {},
   "outputs": [],
   "source": [
    "hospital_df = pd.read_hdf(\"../../data/external/covid-hospitalizations.h5\")\n",
    "death_df = pd.read_hdf(\"../../data/external/new_deaths_per_million.h5\")\n",
    "vacc_age_df = pd.read_hdf(\"../../data/external/vaccinations-by-age-group.h5\")\n",
    "vacc_manu_df = pd.read_hdf(\"../../data/external/vaccinations-by-manufacturer.h5\")\n",
    "covid_df = pd.read_hdf(\"../../data/external/owid-covid-data.h5\")"
   ]
  },
  {
   "cell_type": "code",
   "execution_count": 96,
   "metadata": {},
   "outputs": [],
   "source": [
    "def get_count(df):\n",
    "    try:\n",
    "        df = df.groupby([\"location\"])[[\"date\"]].count().rename(columns={\"date\": \"count\"}).reset_index()\n",
    "    except:\n",
    "        df = df.groupby([\"entity\"])[[\"date\"]].count().rename(columns={\"date\": \"count\"}).reset_index().rename(columns={\"entity\":\"location\"})\n",
    "    df_count = df.sort_values(\"count\")\n",
    "    return df_count\n",
    "\n",
    "def get_boundary_count(boundary_count=200):\n",
    "    below_boundary = []\n",
    "    above_boundary = []\n",
    "    below_boundary_country = []\n",
    "    for df in [hospital_df, vacc_age_df, vacc_manu_df, covid_df]:\n",
    "        below_boundary.append(len([i for i in get_count(df)[\"count\"] if i < boundary_count]))\n",
    "        above_boundary.append(len([i for i in get_count(df)[\"count\"] if i > boundary_count]))\n",
    "        below_boundary_country.append(get_count(df)[get_count(df)[\"count\"] < boundary_count][\"location\"].tolist())\n",
    "    return below_boundary, above_boundary, below_boundary_country"
   ]
  },
  {
   "cell_type": "code",
   "execution_count": null,
   "metadata": {},
   "outputs": [],
   "source": [
    "# hospital_df = pd.read_hdf(\"../../data/external/owid-covid-data.h5\")\n",
    "# # df_count = hospital_df.groupby([\"location\"])[[\"iso_code\"]].count().rename(columns={\"iso_code\": \"count\"}).reset_index()\n",
    "# # df_count = df_count.sort_values(\"count\")\n",
    "# get_count(hospital_df )\n",
    "\n",
    "# plt.figure(figsize=(4,45))\n",
    "# plt.style.use('ggplot')\n",
    "\n",
    "# plt.barh(df_count[\"location\"].tolist(), df_count[\"count\"].tolist())\n",
    "# plt.title(\"Data Counts for Each Country\")\n",
    "# plt.ylabel(\"country\")\n",
    "# plt.xlabel(\"count\")\n",
    "# plt.show()"
   ]
  },
  {
   "cell_type": "code",
   "execution_count": 106,
   "metadata": {},
   "outputs": [
    {
     "name": "stdout",
     "output_type": "stream",
     "text": [
      "Countries with less than 300 data entries will not be used:  {'Western Sahara', 'Singapore', 'Canada', 'Liechtenstein', 'Finland', 'Iceland', 'Russia', 'Sweden'} \n",
      "\n",
      "Data Counts of Countries:\n"
     ]
    },
    {
     "data": {
      "text/html": [
       "<div>\n",
       "<style scoped>\n",
       "    .dataframe tbody tr th:only-of-type {\n",
       "        vertical-align: middle;\n",
       "    }\n",
       "\n",
       "    .dataframe tbody tr th {\n",
       "        vertical-align: top;\n",
       "    }\n",
       "\n",
       "    .dataframe thead th {\n",
       "        text-align: right;\n",
       "    }\n",
       "</style>\n",
       "<table border=\"1\" class=\"dataframe\">\n",
       "  <thead>\n",
       "    <tr style=\"text-align: right;\">\n",
       "      <th></th>\n",
       "      <th>less than 300 data</th>\n",
       "      <th>more than 300 data</th>\n",
       "      <th>country name with data &lt; 300</th>\n",
       "    </tr>\n",
       "  </thead>\n",
       "  <tbody>\n",
       "    <tr>\n",
       "      <th>covid-hospitalizations</th>\n",
       "      <td>3</td>\n",
       "      <td>48</td>\n",
       "      <td>[Russia, Liechtenstein, Singapore]</td>\n",
       "    </tr>\n",
       "    <tr>\n",
       "      <th>vaccinations-by-age-group</th>\n",
       "      <td>0</td>\n",
       "      <td>38</td>\n",
       "      <td>[]</td>\n",
       "    </tr>\n",
       "    <tr>\n",
       "      <th>vaccinations-by-manufacturer</th>\n",
       "      <td>5</td>\n",
       "      <td>39</td>\n",
       "      <td>[Iceland, Liechtenstein, Sweden, Finland, Canada]</td>\n",
       "    </tr>\n",
       "    <tr>\n",
       "      <th>owid-covid-data</th>\n",
       "      <td>1</td>\n",
       "      <td>247</td>\n",
       "      <td>[Western Sahara]</td>\n",
       "    </tr>\n",
       "  </tbody>\n",
       "</table>\n",
       "</div>"
      ],
      "text/plain": [
       "                              less than 300 data  more than 300 data  \\\n",
       "covid-hospitalizations                         3                  48   \n",
       "vaccinations-by-age-group                      0                  38   \n",
       "vaccinations-by-manufacturer                   5                  39   \n",
       "owid-covid-data                                1                 247   \n",
       "\n",
       "                                                   country name with data < 300  \n",
       "covid-hospitalizations                       [Russia, Liechtenstein, Singapore]  \n",
       "vaccinations-by-age-group                                                    []  \n",
       "vaccinations-by-manufacturer  [Iceland, Liechtenstein, Sweden, Finland, Canada]  \n",
       "owid-covid-data                                                [Western Sahara]  "
      ]
     },
     "execution_count": 106,
     "metadata": {},
     "output_type": "execute_result"
    }
   ],
   "source": [
    "boundary = 300\n",
    "df = pd.DataFrame.from_dict({\"less than \"+str(boundry)+\" data\": get_boundary_count(boundary)[0],\n",
    "                             \"more than \"+str(boundry)+\" data\": get_boundary_count(boundary)[1],\n",
    "                             \"country name with data < \"+str(boundry): get_boundary_count(boundary)[2]})\n",
    "df.index = [\"covid-hospitalizations\", \"vaccinations-by-age-group\",\n",
    "            \"vaccinations-by-manufacturer\", \"owid-covid-data\"]\n",
    "print(\"Countries with less than \"+str(boundary)+\" data entries will not be used: \", \n",
    "      set(sum(get_boundary_count(boundary)[2], [])), \"\\n\")\n",
    "print(\"Data Counts of Countries:\")\n",
    "df"
   ]
  }
 ],
 "metadata": {
  "kernelspec": {
   "display_name": "Python 3.8.3 ('base')",
   "language": "python",
   "name": "python3"
  },
  "language_info": {
   "codemirror_mode": {
    "name": "ipython",
    "version": 3
   },
   "file_extension": ".py",
   "mimetype": "text/x-python",
   "name": "python",
   "nbconvert_exporter": "python",
   "pygments_lexer": "ipython3",
   "version": "3.8.3"
  },
  "orig_nbformat": 4,
  "vscode": {
   "interpreter": {
    "hash": "a8562b85ec0e30c3f190b7ee039927776e9c7866d1c4b7ba99ed008550cd2ab9"
   }
  }
 },
 "nbformat": 4,
 "nbformat_minor": 2
}
