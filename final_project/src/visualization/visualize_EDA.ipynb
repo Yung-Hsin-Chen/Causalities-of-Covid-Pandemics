{
 "cells": [
  {
   "cell_type": "code",
   "execution_count": 2,
   "metadata": {},
   "outputs": [],
   "source": [
    "import pandas as pd\n",
    "import matplotlib.pyplot as plt\n",
    "import os"
   ]
  },
  {
   "cell_type": "code",
   "execution_count": 34,
   "metadata": {},
   "outputs": [
    {
     "data": {
      "text/html": [
       "<div>\n",
       "<style scoped>\n",
       "    .dataframe tbody tr th:only-of-type {\n",
       "        vertical-align: middle;\n",
       "    }\n",
       "\n",
       "    .dataframe tbody tr th {\n",
       "        vertical-align: top;\n",
       "    }\n",
       "\n",
       "    .dataframe thead th {\n",
       "        text-align: right;\n",
       "    }\n",
       "</style>\n",
       "<table border=\"1\" class=\"dataframe\">\n",
       "  <thead>\n",
       "    <tr style=\"text-align: right;\">\n",
       "      <th></th>\n",
       "      <th>cardiovasc_death_rate</th>\n",
       "      <th>diabetes_prevalence</th>\n",
       "      <th>gdp_per_capita</th>\n",
       "      <th>hospital_beds_per_thousand</th>\n",
       "      <th>people_fully_vaccinated_per_hundred</th>\n",
       "      <th>human_development_index</th>\n",
       "      <th>life_expectancy</th>\n",
       "      <th>median_age</th>\n",
       "      <th>population_density</th>\n",
       "      <th>aged_65_older_percentage</th>\n",
       "      <th>aged_70_older_percentage</th>\n",
       "      <th>total_cases_per_million_level</th>\n",
       "    </tr>\n",
       "  </thead>\n",
       "  <tbody>\n",
       "    <tr>\n",
       "      <th>0</th>\n",
       "      <td>597.029</td>\n",
       "      <td>9.59</td>\n",
       "      <td>1803.987</td>\n",
       "      <td>0.50</td>\n",
       "      <td>25.61</td>\n",
       "      <td>0.511</td>\n",
       "      <td>64.83</td>\n",
       "      <td>18.6</td>\n",
       "      <td>54.422</td>\n",
       "      <td>6.275412e-08</td>\n",
       "      <td>3.250766e-08</td>\n",
       "      <td>0</td>\n",
       "    </tr>\n",
       "    <tr>\n",
       "      <th>1</th>\n",
       "      <td>304.195</td>\n",
       "      <td>10.08</td>\n",
       "      <td>11803.431</td>\n",
       "      <td>2.89</td>\n",
       "      <td>44.62</td>\n",
       "      <td>0.795</td>\n",
       "      <td>78.57</td>\n",
       "      <td>38.0</td>\n",
       "      <td>104.871</td>\n",
       "      <td>4.639875e-06</td>\n",
       "      <td>3.040828e-06</td>\n",
       "      <td>1</td>\n",
       "    </tr>\n",
       "    <tr>\n",
       "      <th>2</th>\n",
       "      <td>278.364</td>\n",
       "      <td>6.73</td>\n",
       "      <td>13913.839</td>\n",
       "      <td>1.90</td>\n",
       "      <td>14.43</td>\n",
       "      <td>0.748</td>\n",
       "      <td>76.88</td>\n",
       "      <td>29.1</td>\n",
       "      <td>17.348</td>\n",
       "      <td>1.383197e-07</td>\n",
       "      <td>8.589583e-08</td>\n",
       "      <td>0</td>\n",
       "    </tr>\n",
       "    <tr>\n",
       "      <th>3</th>\n",
       "      <td>276.045</td>\n",
       "      <td>3.94</td>\n",
       "      <td>5819.495</td>\n",
       "      <td>0.00</td>\n",
       "      <td>21.96</td>\n",
       "      <td>0.581</td>\n",
       "      <td>61.15</td>\n",
       "      <td>16.8</td>\n",
       "      <td>23.890</td>\n",
       "      <td>6.757707e-08</td>\n",
       "      <td>3.827026e-08</td>\n",
       "      <td>0</td>\n",
       "    </tr>\n",
       "    <tr>\n",
       "      <th>4</th>\n",
       "      <td>191.511</td>\n",
       "      <td>13.17</td>\n",
       "      <td>21490.943</td>\n",
       "      <td>3.80</td>\n",
       "      <td>66.53</td>\n",
       "      <td>0.778</td>\n",
       "      <td>77.02</td>\n",
       "      <td>32.1</td>\n",
       "      <td>231.845</td>\n",
       "      <td>7.393465e-05</td>\n",
       "      <td>4.938574e-05</td>\n",
       "      <td>1</td>\n",
       "    </tr>\n",
       "  </tbody>\n",
       "</table>\n",
       "</div>"
      ],
      "text/plain": [
       "   cardiovasc_death_rate  diabetes_prevalence  gdp_per_capita  \\\n",
       "0                597.029                 9.59        1803.987   \n",
       "1                304.195                10.08       11803.431   \n",
       "2                278.364                 6.73       13913.839   \n",
       "3                276.045                 3.94        5819.495   \n",
       "4                191.511                13.17       21490.943   \n",
       "\n",
       "   hospital_beds_per_thousand  people_fully_vaccinated_per_hundred  \\\n",
       "0                        0.50                                25.61   \n",
       "1                        2.89                                44.62   \n",
       "2                        1.90                                14.43   \n",
       "3                        0.00                                21.96   \n",
       "4                        3.80                                66.53   \n",
       "\n",
       "   human_development_index  life_expectancy  median_age  population_density  \\\n",
       "0                    0.511            64.83        18.6              54.422   \n",
       "1                    0.795            78.57        38.0             104.871   \n",
       "2                    0.748            76.88        29.1              17.348   \n",
       "3                    0.581            61.15        16.8              23.890   \n",
       "4                    0.778            77.02        32.1             231.845   \n",
       "\n",
       "   aged_65_older_percentage  aged_70_older_percentage  \\\n",
       "0              6.275412e-08              3.250766e-08   \n",
       "1              4.639875e-06              3.040828e-06   \n",
       "2              1.383197e-07              8.589583e-08   \n",
       "3              6.757707e-08              3.827026e-08   \n",
       "4              7.393465e-05              4.938574e-05   \n",
       "\n",
       "  total_cases_per_million_level  \n",
       "0                             0  \n",
       "1                             1  \n",
       "2                             0  \n",
       "3                             0  \n",
       "4                             1  "
      ]
     },
     "execution_count": 34,
     "metadata": {},
     "output_type": "execute_result"
    }
   ],
   "source": [
    "#vacc_age_df = pd.read_hdf(\"../../data/external/vaccinations-by-age-group.h5\")\n",
    "#vacc_manu_df = pd.read_hdf(\"../../data/external/vaccinations-by-manufacturer.h5\")\n",
    "df = pd.read_hdf(\"../../data/processed/covid_data.h5\")\n",
    "df.head()"
   ]
  },
  {
   "cell_type": "code",
   "execution_count": 35,
   "metadata": {},
   "outputs": [
    {
     "data": {
      "text/plain": [
       "Text(0.5, 1.0, 'total cases per million level')"
      ]
     },
     "execution_count": 35,
     "metadata": {},
     "output_type": "execute_result"
    },
    {
     "data": {
      "image/png": "[encoded data removed]",
      "text/plain": [
       "<Figure size 432x288 with 1 Axes>"
      ]
     },
     "metadata": {
      "needs_background": "light"
     },
     "output_type": "display_data"
    }
   ],
   "source": [
    "## Now we do an EDA to see some key characteristics of the dataset\n",
    "# 1. Total cases per million histogram by level (0-3)\n",
    "plt1 = df['total_cases_per_million_level'].value_counts().plot(kind='bar')\n",
    "plt1.set_title(\"total cases per million level\")"
   ]
  },
  {
   "cell_type": "code",
   "execution_count": 42,
   "metadata": {},
   "outputs": [
    {
     "data": {
      "image/png": "[encoded data removed]",
      "text/plain": [
       "<Figure size 432x288 with 1 Axes>"
      ]
     },
     "metadata": {
      "needs_background": "light"
     },
     "output_type": "display_data"
    },
    {
     "name": "stdout",
     "output_type": "stream",
     "text": [
      "0.25    176.1925\n",
      "0.50    252.6750\n",
      "0.75    332.4330\n",
      "Name: cardiovasc_death_rate, dtype: float64\n"
     ]
    }
   ],
   "source": [
    "# 2. Cardiovascular death rate related. \n",
    "# We use a box plot and print its quartile values (after dropping zero values)\n",
    "df1 = df.loc[df[\"cardiovasc_death_rate\"] > 0]\n",
    "df1.boxplot('cardiovasc_death_rate', vert=False)\n",
    "plt.show()\n",
    "\n",
    "print(df1['cardiovasc_death_rate'].quantile([0.25, 0.5, 0.75]))"
   ]
  },
  {
   "cell_type": "code",
   "execution_count": 43,
   "metadata": {},
   "outputs": [
    {
     "data": {
      "image/png": "[encoded data removed]",
      "text/plain": [
       "<Figure size 432x288 with 1 Axes>"
      ]
     },
     "metadata": {
      "needs_background": "light"
     },
     "output_type": "display_data"
    },
    {
     "name": "stdout",
     "output_type": "stream",
     "text": [
      "0.25     5.305\n",
      "0.50     7.155\n",
      "0.75    10.430\n",
      "Name: diabetes_prevalence, dtype: float64\n"
     ]
    }
   ],
   "source": [
    "# 3. Diabetes prevalence related. \n",
    "# We use the same methods as in 2.\n",
    "df1 = df.loc[df[\"diabetes_prevalence\"] > 0]\n",
    "df1.boxplot('diabetes_prevalence', vert=False)\n",
    "plt.show()\n",
    "\n",
    "print(df1['diabetes_prevalence'].quantile([0.25, 0.5, 0.75]))"
   ]
  },
  {
   "cell_type": "code",
   "execution_count": 62,
   "metadata": {},
   "outputs": [
    {
     "data": {
      "image/png": "[encoded data removed]",
      "text/plain": [
       "<Figure size 432x288 with 1 Axes>"
      ]
     },
     "metadata": {
      "needs_background": "light"
     },
     "output_type": "display_data"
    },
    {
     "name": "stdout",
     "output_type": "stream",
     "text": [
      "0.25     3823.194\n",
      "0.50    12236.706\n",
      "0.75    26808.164\n",
      "Name: gdp_per_capita, dtype: float64\n"
     ]
    }
   ],
   "source": [
    "# 4. GDP per capita. \n",
    "# We use the same methods as in 2.\n",
    "df1 = df.loc[df[\"gdp_per_capita\"] > 0]\n",
    "df1.boxplot('gdp_per_capita', vert=False)\n",
    "plt.show()\n",
    "\n",
    "print(df1['gdp_per_capita'].quantile([0.25,0.5,0.75]))"
   ]
  },
  {
   "cell_type": "code",
   "execution_count": 63,
   "metadata": {},
   "outputs": [
    {
     "data": {
      "image/png": "[encoded data removed]",
      "text/plain": [
       "<Figure size 432x288 with 1 Axes>"
      ]
     },
     "metadata": {
      "needs_background": "light"
     },
     "output_type": "display_data"
    },
    {
     "name": "stdout",
     "output_type": "stream",
     "text": [
      "0.25    1.30\n",
      "0.50    2.36\n",
      "0.75    4.05\n",
      "Name: hospital_beds_per_thousand, dtype: float64\n"
     ]
    }
   ],
   "source": [
    "# 5. hospital beds per thousand inhabitants. \n",
    "# We use the same methods as in 2.\n",
    "df1 = df.loc[df[\"hospital_beds_per_thousand\"] > 0]\n",
    "df1.boxplot('hospital_beds_per_thousand', vert=False)\n",
    "plt.show()\n",
    "\n",
    "print(df1['hospital_beds_per_thousand'].quantile([0.25,0.5,0.75]))"
   ]
  },
  {
   "cell_type": "code",
   "execution_count": 64,
   "metadata": {},
   "outputs": [
    {
     "data": {
      "image/png": "[encoded data removed]",
      "text/plain": [
       "<Figure size 432x288 with 1 Axes>"
      ]
     },
     "metadata": {
      "needs_background": "light"
     },
     "output_type": "display_data"
    },
    {
     "name": "stdout",
     "output_type": "stream",
     "text": [
      "0.25    33.585\n",
      "0.50    55.830\n",
      "0.75    74.090\n",
      "Name: people_fully_vaccinated_per_hundred, dtype: float64\n"
     ]
    }
   ],
   "source": [
    "# 6. people fully vaccinated per hundred\n",
    "# We use the same methods as in 2.\n",
    "df1 = df.loc[df[\"people_fully_vaccinated_per_hundred\"] > 0]\n",
    "df1.boxplot('people_fully_vaccinated_per_hundred', vert=False)\n",
    "plt.show()\n",
    "\n",
    "print(df1['people_fully_vaccinated_per_hundred'].quantile([0.25,0.5,0.75]))"
   ]
  },
  {
   "cell_type": "code",
   "execution_count": 67,
   "metadata": {},
   "outputs": [
    {
     "data": {
      "image/png": "[encoded data removed]",
      "text/plain": [
       "<Figure size 432x288 with 1 Axes>"
      ]
     },
     "metadata": {
      "needs_background": "light"
     },
     "output_type": "display_data"
    }
   ],
   "source": [
    "# 7. Relationship between gdp per capita and human dev. index. \n",
    "# We draw a scatter plot between these two. \n",
    "ax =df.plot.scatter(x=\"gdp_per_capita\", y=\"human_development_index\")\n",
    "ax.set_xlim(0, 60000) #We omit the outliers \n",
    "plt.show()"
   ]
  },
  {
   "cell_type": "code",
   "execution_count": 73,
   "metadata": {},
   "outputs": [
    {
     "data": {
      "image/png": "[encoded data removed]",
      "text/plain": [
       "<Figure size 432x288 with 1 Axes>"
      ]
     },
     "metadata": {
      "needs_background": "light"
     },
     "output_type": "display_data"
    },
    {
     "name": "stdout",
     "output_type": "stream",
     "text": [
      "0.25    67.44\n",
      "0.50    74.08\n",
      "0.75    77.97\n",
      "Name: life_expectancy, dtype: float64\n"
     ]
    }
   ],
   "source": [
    "# 8. Life expectancy vs. median age\n",
    "# We use the same methods as in 2.\n",
    "ax =df.plot.scatter(x=\"life_expectancy\", y=\"median_age\")\n",
    "plt.show()\n",
    "\n",
    "print(df1['life_expectancy'].quantile([0.25,0.5,0.75]))"
   ]
  }
 ],
 "metadata": {
  "kernelspec": {
   "display_name": "Python 3.8.3 ('base')",
   "language": "python",
   "name": "python3"
  },
  "language_info": {
   "codemirror_mode": {
    "name": "ipython",
    "version": 3
   },
   "file_extension": ".py",
   "mimetype": "text/x-python",
   "name": "python",
   "nbconvert_exporter": "python",
   "pygments_lexer": "ipython3",
   "version": "3.8.3"
  },
  "orig_nbformat": 4,
  "vscode": {
   "interpreter": {
    "hash": "3067ead486e059ec00ffe7555bdb889e6e264a24dc711bf108106cc7baee8d5d"
   }
  }
 },
 "nbformat": 4,
 "nbformat_minor": 2
}
